{
 "cells": [
  {
   "cell_type": "code",
   "execution_count": null,
   "metadata": {},
   "outputs": [],
   "source": [
    "# 기둥과 보\n",
    "# x, y, a, b : x좌표, y좌표, 구조물(0: 기둥, 1: 보), 설치 유무(0: 삭제, 1: 설치)\n",
    "def is_ok(result): # 지금 상태, 괜찮을까?\n",
    "    for x, y, a in result:\n",
    "        if a: # 보일 때\n",
    "            if [x, y - 1, 0] in result or [x + 1, y - 1, 0] in result or ([x - 1, y, 1] in result and [x + 1, y, 1] in result):\n",
    "                continue\n",
    "            return False\n",
    "        else: # 기둥일 때\n",
    "            if not y or [x, y, 1] in result or [x - 1, y, 1] in result or [x, y - 1, 0] in result:\n",
    "                continue\n",
    "            return False\n",
    "    return True\n",
    "    \n",
    "def solution(n, build_frame):\n",
    "    result = []\n",
    "    for build in build_frame: # build_frame을 하나씩 살펴보며\n",
    "        if build[3]: # 설치\n",
    "            result.append(build[:3]) # x,y,a(구조물) 추가\n",
    "            if not is_ok(result): # 지금 상태 안 괜찮다면\n",
    "                result.remove(build[:3]) # 설치한거 다시 삭제\n",
    "        else: # 삭제\n",
    "            result.remove(build[:3]) # x,y,a(구조물) 제거\n",
    "            if not is_ok(result): # 지금 상태 안 괜찮다면\n",
    "                result.append(build[:3]) # 삭제한거 다시 설치\n",
    "                \n",
    "    return sorted(result) # 정렬해서 반환"
   ]
  }
 ],
 "metadata": {
  "language_info": {
   "name": "python"
  },
  "orig_nbformat": 4
 },
 "nbformat": 4,
 "nbformat_minor": 2
}
