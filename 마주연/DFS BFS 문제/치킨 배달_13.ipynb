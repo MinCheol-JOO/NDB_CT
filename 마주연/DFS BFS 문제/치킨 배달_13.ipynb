{
 "cells": [
  {
   "cell_type": "code",
   "execution_count": null,
   "metadata": {},
   "outputs": [],
   "source": [
    "from itertools import combinations\n",
    "\n",
    "n, m = map(int, input().split()) # 도시 크기 n * n, 선택한 치킨집 갯수 m\n",
    "\n",
    "house, chicken = [], [] \n",
    "for x in range(n):\n",
    "    a = list(map(int, input().split()))\n",
    "    for y in range(n):\n",
    "        if a[y] == 1:\n",
    "            house.append((x, y))\n",
    "        elif a[y] == 2:\n",
    "            chicken.append((x, y))\n",
    "            \n",
    "chicken_list = list(combinations(chicken, m)) # m개의 치킨집 조합 list\n",
    "\n",
    "answer = 1e9 # m개 치킨집을 골랐을 때 치킨거리: 가장 짧은 거리를 구해야하니까\n",
    "for chick in chicken_list: # 치킨집 조합 list에서 하나씩 꺼내면서\n",
    "    dist_total = 0 # 총 치킨거리 초기화\n",
    "    for h_x, h_y in house: # 각각의 집에 대하여\n",
    "        dist_one = 1e9 # 치킨집 하나에 대한 치킨거리: 가장 짧은 거리를 구해야하니까\n",
    "        for c_x, c_y in chick: # 각각의 치킨집에 대하여\n",
    "            # 해당 치킨집에 대한 치킨거리 구하기\n",
    "            dist_one = min(dist_one, abs(h_x - c_x) + abs(h_y - c_y))\n",
    "        dist_total += dist_one # 해당 집의 총 치킨거리 구하기\n",
    "    answer = min(answer, dist_total) # 전체 가장 짧은 치킨거리 구하기\n",
    "    print(answer)\n",
    "print(answer)"
   ]
  }
 ],
 "metadata": {
  "kernelspec": {
   "display_name": "Python 3.9.13 64-bit",
   "language": "python",
   "name": "python3"
  },
  "language_info": {
   "name": "python",
   "version": "3.9.13"
  },
  "orig_nbformat": 4,
  "vscode": {
   "interpreter": {
    "hash": "cf92aa13fedf815d5c8dd192b8d835913fde3e8bc926b2a0ad6cc74ef2ba3ca2"
   }
  }
 },
 "nbformat": 4,
 "nbformat_minor": 2
}
