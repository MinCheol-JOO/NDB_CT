{
 "cells": [
  {
   "cell_type": "code",
   "execution_count": null,
   "metadata": {},
   "outputs": [],
   "source": [
    "from collections import deque\n",
    "\n",
    "# 도시 개수 n, 도로 개수 m, 최단 거리 k, 출발 도시 x\n",
    "n, m, k, x = map(int, input().split())\n",
    "\n",
    "# 도시 간 연결 정보 초기화\n",
    "city = [[] for _ in range(n+1)]\n",
    "# 연결된 도시 정보 저장\n",
    "for _ in range(m):\n",
    "    a, b = map(int, input().split())\n",
    "    city[a].append(b)\n",
    "\n",
    "# 거리 정보 초기화\n",
    "distance = [-1] * (n+1)\n",
    "distance[x] = 0 # 출발 도시의 거리 = 0\n",
    "\n",
    "# x 도시에서 출발\n",
    "q = deque([x])\n",
    "# 계속 도시가 연결되어 있는 한\n",
    "while q:\n",
    "    name = q.popleft() # 현재 출발 도시\n",
    "    for c in city[name]: # 연결된 도시 탐색\n",
    "        if distance[c] == -1: # 아직 탐색 전이면\n",
    "            distance[c] = distance[name] + 1 # 거리 +1\n",
    "            q.append(c) # 다녀갈 도시에 추가\n",
    "            \n",
    "if k in distance: # k 거리의 도시가 있다면\n",
    "    for city_name, dist in enumerate(distance):\n",
    "        if dist == k:\n",
    "            print(city_name)\n",
    "else: # k 거리의 도시가 없다면\n",
    "    print(-1)"
   ]
  }
 ],
 "metadata": {
  "language_info": {
   "name": "python"
  },
  "orig_nbformat": 4
 },
 "nbformat": 4,
 "nbformat_minor": 2
}
